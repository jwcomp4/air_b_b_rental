{
 "cells": [
  {
   "cell_type": "markdown",
   "id": "c7d29f6f",
   "metadata": {},
   "source": [
    "For our final project, we will be using supervised machine learning to predict airbnb rental prices in the city of Nashville, based on several parameters. Our data source is the past year's data, pulled from 4 separate quarterly files from Kaggle. Because our data output will be a continuous variable (a number), we will use a regression model.\n",
    "\n",
    "Our target variable:\n",
    "\n",
    "+ price\n",
    "\n",
    "Our features variables:\n",
    "\n",
    "+ "
   ]
  },
  {
   "cell_type": "code",
   "execution_count": 1,
   "id": "355282cb",
   "metadata": {},
   "outputs": [
    {
     "data": {
      "text/html": [
       "<div>\n",
       "<style scoped>\n",
       "    .dataframe tbody tr th:only-of-type {\n",
       "        vertical-align: middle;\n",
       "    }\n",
       "\n",
       "    .dataframe tbody tr th {\n",
       "        vertical-align: top;\n",
       "    }\n",
       "\n",
       "    .dataframe thead th {\n",
       "        text-align: right;\n",
       "    }\n",
       "</style>\n",
       "<table border=\"1\" class=\"dataframe\">\n",
       "  <thead>\n",
       "    <tr style=\"text-align: right;\">\n",
       "      <th></th>\n",
       "      <th>id</th>\n",
       "      <th>name</th>\n",
       "      <th>host_id</th>\n",
       "      <th>host_name</th>\n",
       "      <th>neighbourhood_group</th>\n",
       "      <th>neighbourhood</th>\n",
       "      <th>latitude</th>\n",
       "      <th>longitude</th>\n",
       "      <th>room_type</th>\n",
       "      <th>price</th>\n",
       "      <th>minimum_nights</th>\n",
       "      <th>number_of_reviews</th>\n",
       "      <th>last_review</th>\n",
       "      <th>reviews_per_month</th>\n",
       "      <th>calculated_host_listings_count</th>\n",
       "      <th>availability_365</th>\n",
       "      <th>number_of_reviews_ltm</th>\n",
       "      <th>license</th>\n",
       "    </tr>\n",
       "  </thead>\n",
       "  <tbody>\n",
       "    <tr>\n",
       "      <th>0</th>\n",
       "      <td>6422</td>\n",
       "      <td>Nashville Charm</td>\n",
       "      <td>12172</td>\n",
       "      <td>Michele</td>\n",
       "      <td>NaN</td>\n",
       "      <td>District 6</td>\n",
       "      <td>36.17315</td>\n",
       "      <td>-86.73581</td>\n",
       "      <td>Private room</td>\n",
       "      <td>40</td>\n",
       "      <td>30</td>\n",
       "      <td>674</td>\n",
       "      <td>2020-03-03</td>\n",
       "      <td>4.14</td>\n",
       "      <td>1</td>\n",
       "      <td>257</td>\n",
       "      <td>0</td>\n",
       "      <td>NaN</td>\n",
       "    </tr>\n",
       "    <tr>\n",
       "      <th>1</th>\n",
       "      <td>39870</td>\n",
       "      <td>Close to Vanderbilt 2</td>\n",
       "      <td>171184</td>\n",
       "      <td>Evelyn</td>\n",
       "      <td>NaN</td>\n",
       "      <td>District 18</td>\n",
       "      <td>36.12523</td>\n",
       "      <td>-86.81278</td>\n",
       "      <td>Private room</td>\n",
       "      <td>72</td>\n",
       "      <td>1</td>\n",
       "      <td>328</td>\n",
       "      <td>2022-09-11</td>\n",
       "      <td>4.49</td>\n",
       "      <td>2</td>\n",
       "      <td>134</td>\n",
       "      <td>64</td>\n",
       "      <td>NaN</td>\n",
       "    </tr>\n",
       "    <tr>\n",
       "      <th>2</th>\n",
       "      <td>59576</td>\n",
       "      <td>Large Master Suite near Lake *ladies only NS plz</td>\n",
       "      <td>812128</td>\n",
       "      <td>Patricia And John</td>\n",
       "      <td>NaN</td>\n",
       "      <td>District 12</td>\n",
       "      <td>36.18749</td>\n",
       "      <td>-86.59004</td>\n",
       "      <td>Private room</td>\n",
       "      <td>39</td>\n",
       "      <td>31</td>\n",
       "      <td>1</td>\n",
       "      <td>2022-06-26</td>\n",
       "      <td>0.37</td>\n",
       "      <td>10</td>\n",
       "      <td>180</td>\n",
       "      <td>1</td>\n",
       "      <td>NaN</td>\n",
       "    </tr>\n",
       "    <tr>\n",
       "      <th>3</th>\n",
       "      <td>72906</td>\n",
       "      <td>Vandy/Belmont/10 mins to Broadway - Sunny 800 ...</td>\n",
       "      <td>176117</td>\n",
       "      <td>Richard</td>\n",
       "      <td>NaN</td>\n",
       "      <td>District 18</td>\n",
       "      <td>36.13122</td>\n",
       "      <td>-86.80066</td>\n",
       "      <td>Entire home/apt</td>\n",
       "      <td>105</td>\n",
       "      <td>2</td>\n",
       "      <td>658</td>\n",
       "      <td>2022-09-11</td>\n",
       "      <td>4.79</td>\n",
       "      <td>1</td>\n",
       "      <td>59</td>\n",
       "      <td>56</td>\n",
       "      <td>NaN</td>\n",
       "    </tr>\n",
       "    <tr>\n",
       "      <th>4</th>\n",
       "      <td>258817</td>\n",
       "      <td>ButterflyRoom-queen room, private bath</td>\n",
       "      <td>22296</td>\n",
       "      <td>Diana</td>\n",
       "      <td>NaN</td>\n",
       "      <td>District 12</td>\n",
       "      <td>36.16249</td>\n",
       "      <td>-86.58988</td>\n",
       "      <td>Private room</td>\n",
       "      <td>39</td>\n",
       "      <td>30</td>\n",
       "      <td>96</td>\n",
       "      <td>2019-12-14</td>\n",
       "      <td>0.73</td>\n",
       "      <td>8</td>\n",
       "      <td>288</td>\n",
       "      <td>0</td>\n",
       "      <td>NaN</td>\n",
       "    </tr>\n",
       "  </tbody>\n",
       "</table>\n",
       "</div>"
      ],
      "text/plain": [
       "       id                                               name  host_id  \\\n",
       "0    6422                                    Nashville Charm    12172   \n",
       "1   39870                              Close to Vanderbilt 2   171184   \n",
       "2   59576   Large Master Suite near Lake *ladies only NS plz   812128   \n",
       "3   72906  Vandy/Belmont/10 mins to Broadway - Sunny 800 ...   176117   \n",
       "4  258817             ButterflyRoom-queen room, private bath    22296   \n",
       "\n",
       "           host_name  neighbourhood_group neighbourhood  latitude  longitude  \\\n",
       "0            Michele                  NaN    District 6  36.17315  -86.73581   \n",
       "1             Evelyn                  NaN   District 18  36.12523  -86.81278   \n",
       "2  Patricia And John                  NaN   District 12  36.18749  -86.59004   \n",
       "3            Richard                  NaN   District 18  36.13122  -86.80066   \n",
       "4              Diana                  NaN   District 12  36.16249  -86.58988   \n",
       "\n",
       "         room_type  price  minimum_nights  number_of_reviews last_review  \\\n",
       "0     Private room     40              30                674  2020-03-03   \n",
       "1     Private room     72               1                328  2022-09-11   \n",
       "2     Private room     39              31                  1  2022-06-26   \n",
       "3  Entire home/apt    105               2                658  2022-09-11   \n",
       "4     Private room     39              30                 96  2019-12-14   \n",
       "\n",
       "   reviews_per_month  calculated_host_listings_count  availability_365  \\\n",
       "0               4.14                               1               257   \n",
       "1               4.49                               2               134   \n",
       "2               0.37                              10               180   \n",
       "3               4.79                               1                59   \n",
       "4               0.73                               8               288   \n",
       "\n",
       "   number_of_reviews_ltm  license  \n",
       "0                      0      NaN  \n",
       "1                     64      NaN  \n",
       "2                      1      NaN  \n",
       "3                     56      NaN  \n",
       "4                      0      NaN  "
      ]
     },
     "execution_count": 1,
     "metadata": {},
     "output_type": "execute_result"
    }
   ],
   "source": [
    "# Import dependencies\n",
    "import pandas as pd\n",
    "from pathlib import Path\n",
    "import matplotlib.pyplot as plt\n",
    "from sklearn.linear_model import LinearRegression\n",
    "\n",
    "# Load data\n",
    "df = pd.read_csv(Path(\"091522_listings.csv\"))\n",
    "df.head()"
   ]
  },
  {
   "cell_type": "code",
   "execution_count": 2,
   "id": "9fbb98a8",
   "metadata": {},
   "outputs": [
    {
     "data": {
      "text/plain": [
       "District 19    1711\n",
       "District 17     931\n",
       "District 5      829\n",
       "District 21     768\n",
       "District 6      584\n",
       "District 15     409\n",
       "District 2      288\n",
       "District 7      283\n",
       "District 18     251\n",
       "District 20     194\n",
       "District 8      183\n",
       "District 16     137\n",
       "District 24     134\n",
       "District 13      96\n",
       "District 33      79\n",
       "District 11      71\n",
       "District 1       66\n",
       "District 3       62\n",
       "District 10      61\n",
       "District 14      61\n",
       "District 25      57\n",
       "District 26      56\n",
       "District 12      54\n",
       "District 35      46\n",
       "District 29      44\n",
       "District 4       43\n",
       "District 27      39\n",
       "District 9       31\n",
       "District 30      29\n",
       "District 22      27\n",
       "District 31      26\n",
       "District 32      22\n",
       "District 28      21\n",
       "District 23      20\n",
       "District 34      20\n",
       "Name: neighbourhood, dtype: int64"
      ]
     },
     "execution_count": 2,
     "metadata": {},
     "output_type": "execute_result"
    }
   ],
   "source": [
    "# Check the values for the Neighbourhood column\n",
    "df[\"neighbourhood\"].value_counts()"
   ]
  },
  {
   "cell_type": "code",
   "execution_count": 3,
   "id": "edbdb042",
   "metadata": {},
   "outputs": [
    {
     "data": {
      "image/png": "[encoded data removed]",
      "text/plain": [
       "<Figure size 432x288 with 1 Axes>"
      ]
     },
     "metadata": {
      "needs_background": "light"
     },
     "output_type": "display_data"
    }
   ],
   "source": [
    "# Visualize Number of Reviews vs Price\n",
    "plt.scatter(df.number_of_reviews, df.price)\n",
    "plt.xlabel('Number of Reviews')\n",
    "plt.ylabel('Price Per Night')\n",
    "plt.show()"
   ]
  },
  {
   "cell_type": "code",
   "execution_count": 4,
   "id": "5af6c651",
   "metadata": {},
   "outputs": [],
   "source": [
    "# Format data\n",
    "X = df.number_of_reviews.values.reshape(-1, 1)"
   ]
  },
  {
   "cell_type": "code",
   "execution_count": 5,
   "id": "f1a1dd20",
   "metadata": {},
   "outputs": [
    {
     "data": {
      "text/plain": [
       "array([[674],\n",
       "       [328],\n",
       "       [  1],\n",
       "       [658],\n",
       "       [ 96]], dtype=int64)"
      ]
     },
     "execution_count": 5,
     "metadata": {},
     "output_type": "execute_result"
    }
   ],
   "source": [
    "# Examine first five entries\n",
    "X[:5]"
   ]
  },
  {
   "cell_type": "code",
   "execution_count": 6,
   "id": "ce01fca8",
   "metadata": {},
   "outputs": [
    {
     "data": {
      "text/plain": [
       "(7733, 1)"
      ]
     },
     "execution_count": 6,
     "metadata": {},
     "output_type": "execute_result"
    }
   ],
   "source": [
    "# Examine the shape\n",
    "X.shape"
   ]
  },
  {
   "cell_type": "code",
   "execution_count": 7,
   "id": "871c3af4",
   "metadata": {},
   "outputs": [],
   "source": [
    "# Assign the target variable\n",
    "y = df.price"
   ]
  },
  {
   "cell_type": "code",
   "execution_count": 8,
   "id": "738c5292",
   "metadata": {},
   "outputs": [],
   "source": [
    "# Create an instance of the linear regression model\n",
    "model = LinearRegression()"
   ]
  },
  {
   "cell_type": "code",
   "execution_count": 9,
   "id": "f4a18371",
   "metadata": {},
   "outputs": [
    {
     "data": {
      "text/plain": [
       "LinearRegression()"
      ]
     },
     "execution_count": 9,
     "metadata": {},
     "output_type": "execute_result"
    }
   ],
   "source": [
    "# Train the model\n",
    "model.fit(X, y)"
   ]
  },
  {
   "cell_type": "code",
   "execution_count": 10,
   "id": "8c42dc32",
   "metadata": {},
   "outputs": [
    {
     "name": "stdout",
     "output_type": "stream",
     "text": [
      "(7733,)\n"
     ]
    }
   ],
   "source": [
    "# Generate predictions\n",
    "y_pred = model.predict(X)\n",
    "print(y_pred.shape)"
   ]
  },
  {
   "cell_type": "code",
   "execution_count": 11,
   "id": "07f792de",
   "metadata": {},
   "outputs": [
    {
     "data": {
      "image/png": "[encoded data removed]",
      "text/plain": [
       "<Figure size 432x288 with 1 Axes>"
      ]
     },
     "metadata": {
      "needs_background": "light"
     },
     "output_type": "display_data"
    }
   ],
   "source": [
    "# Plot the predictions\n",
    "plt.scatter(X, y)\n",
    "plt.plot(X, y_pred, color='red')\n",
    "plt.show()"
   ]
  },
  {
   "cell_type": "code",
   "execution_count": 12,
   "id": "83bd6961",
   "metadata": {},
   "outputs": [
    {
     "name": "stdout",
     "output_type": "stream",
     "text": [
      "[-0.45776809]\n",
      "317.719070984132\n"
     ]
    }
   ],
   "source": [
    "# Examine the parameters\n",
    "print(model.coef_)\n",
    "print(model.intercept_)"
   ]
  },
  {
   "cell_type": "code",
   "execution_count": null,
   "id": "bf9df9d6",
   "metadata": {},
   "outputs": [],
   "source": []
  }
 ],
 "metadata": {
  "kernelspec": {
   "display_name": "mlenv",
   "language": "python",
   "name": "mlenv"
  },
  "language_info": {
   "codemirror_mode": {
    "name": "ipython",
    "version": 3
   },
   "file_extension": ".py",
   "mimetype": "text/x-python",
   "name": "python",
   "nbconvert_exporter": "python",
   "pygments_lexer": "ipython3",
   "version": "3.7.13"
  }
 },
 "nbformat": 4,
 "nbformat_minor": 5
}
